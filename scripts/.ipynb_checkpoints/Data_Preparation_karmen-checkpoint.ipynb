{
 "cells": [
  {
   "cell_type": "code",
   "execution_count": 2,
   "metadata": {},
   "outputs": [],
   "source": [
    "import numpy as np\n",
    "import pandas as pd\n",
    "%matplotlib inline\n",
    "import matplotlib.pyplot as plt\n",
    "import seaborn as sns"
   ]
  },
  {
   "cell_type": "code",
   "execution_count": 3,
   "metadata": {},
   "outputs": [
    {
     "data": {
      "text/html": [
       "<div>\n",
       "<style scoped>\n",
       "    .dataframe tbody tr th:only-of-type {\n",
       "        vertical-align: middle;\n",
       "    }\n",
       "\n",
       "    .dataframe tbody tr th {\n",
       "        vertical-align: top;\n",
       "    }\n",
       "\n",
       "    .dataframe thead th {\n",
       "        text-align: right;\n",
       "    }\n",
       "</style>\n",
       "<table border=\"1\" class=\"dataframe\">\n",
       "  <thead>\n",
       "    <tr style=\"text-align: right;\">\n",
       "      <th></th>\n",
       "      <th>Sex</th>\n",
       "      <th>Age</th>\n",
       "      <th>Menopause</th>\n",
       "      <th>Carnitine</th>\n",
       "      <th>Betaine</th>\n",
       "      <th>Choline</th>\n",
       "      <th>Dimethyl-glycine</th>\n",
       "      <th>Sarcosine</th>\n",
       "      <th>Trimethyl-amine-N-oxide</th>\n",
       "      <th>Carnitine</th>\n",
       "      <th>...</th>\n",
       "      <th>linolenic acid</th>\n",
       "      <th>eicosadienoic acid</th>\n",
       "      <th>dihomo-γ-linolenic acid</th>\n",
       "      <th>behenic acid</th>\n",
       "      <th>arachidonic acid</th>\n",
       "      <th>eicosapentaenoic acid</th>\n",
       "      <th>lignoceric acid</th>\n",
       "      <th>docosatetraenoic acid</th>\n",
       "      <th>docosapentaenoic acid</th>\n",
       "      <th>docosahexaenoic acid</th>\n",
       "    </tr>\n",
       "  </thead>\n",
       "  <tbody>\n",
       "    <tr>\n",
       "      <th>0</th>\n",
       "      <td>1</td>\n",
       "      <td>66.3682</td>\n",
       "      <td>NaN</td>\n",
       "      <td>35.23</td>\n",
       "      <td>40.5</td>\n",
       "      <td>9.33</td>\n",
       "      <td>3</td>\n",
       "      <td>4.92</td>\n",
       "      <td>2.71</td>\n",
       "      <td>33.3716</td>\n",
       "      <td>...</td>\n",
       "      <td>12.9769</td>\n",
       "      <td>6.42583</td>\n",
       "      <td>52.5943</td>\n",
       "      <td>1.79579</td>\n",
       "      <td>223.444</td>\n",
       "      <td>20.1033</td>\n",
       "      <td>2.04693</td>\n",
       "      <td>8.74794</td>\n",
       "      <td>16.2559</td>\n",
       "      <td>31.796</td>\n",
       "    </tr>\n",
       "    <tr>\n",
       "      <th>1</th>\n",
       "      <td>1</td>\n",
       "      <td>23.6449</td>\n",
       "      <td>NaN</td>\n",
       "      <td>35.91</td>\n",
       "      <td>46.89</td>\n",
       "      <td>10.46</td>\n",
       "      <td>2.64</td>\n",
       "      <td>2.21</td>\n",
       "      <td>2.31</td>\n",
       "      <td>38.2747</td>\n",
       "      <td>...</td>\n",
       "      <td>14.8863</td>\n",
       "      <td>5.32614</td>\n",
       "      <td>43.4748</td>\n",
       "      <td>1.10423</td>\n",
       "      <td>202.725</td>\n",
       "      <td>20.5065</td>\n",
       "      <td>0.48</td>\n",
       "      <td>7.55581</td>\n",
       "      <td>16.8608</td>\n",
       "      <td>28.7924</td>\n",
       "    </tr>\n",
       "    <tr>\n",
       "      <th>2</th>\n",
       "      <td>1</td>\n",
       "      <td>50.987</td>\n",
       "      <td>NaN</td>\n",
       "      <td>48.71</td>\n",
       "      <td>28.48</td>\n",
       "      <td>11.26</td>\n",
       "      <td>2.38</td>\n",
       "      <td>2.97</td>\n",
       "      <td>13.98</td>\n",
       "      <td>53.419</td>\n",
       "      <td>...</td>\n",
       "      <td>9.17422</td>\n",
       "      <td>3.23201</td>\n",
       "      <td>24.851</td>\n",
       "      <td>1.29035</td>\n",
       "      <td>120.742</td>\n",
       "      <td>7.9553</td>\n",
       "      <td>0.48</td>\n",
       "      <td>4.30479</td>\n",
       "      <td>9.01177</td>\n",
       "      <td>34.1674</td>\n",
       "    </tr>\n",
       "    <tr>\n",
       "      <th>3</th>\n",
       "      <td>1</td>\n",
       "      <td>23.3684</td>\n",
       "      <td>NaN</td>\n",
       "      <td>27.14</td>\n",
       "      <td>42.01</td>\n",
       "      <td>9.26</td>\n",
       "      <td>2.86</td>\n",
       "      <td>3</td>\n",
       "      <td>3.72</td>\n",
       "      <td>25.6593</td>\n",
       "      <td>...</td>\n",
       "      <td>11.9528</td>\n",
       "      <td>4.96358</td>\n",
       "      <td>35.5244</td>\n",
       "      <td>0.48</td>\n",
       "      <td>146.83</td>\n",
       "      <td>22.383</td>\n",
       "      <td>0.48</td>\n",
       "      <td>5.1504</td>\n",
       "      <td>15.4226</td>\n",
       "      <td>48.8507</td>\n",
       "    </tr>\n",
       "    <tr>\n",
       "      <th>4</th>\n",
       "      <td>1</td>\n",
       "      <td>57.3101</td>\n",
       "      <td>NaN</td>\n",
       "      <td>33.28</td>\n",
       "      <td>35.71</td>\n",
       "      <td>9.38</td>\n",
       "      <td>2.82</td>\n",
       "      <td>1.69</td>\n",
       "      <td>3.57</td>\n",
       "      <td>38.9843</td>\n",
       "      <td>...</td>\n",
       "      <td>16.9805</td>\n",
       "      <td>6.28118</td>\n",
       "      <td>51.4516</td>\n",
       "      <td>1.99483</td>\n",
       "      <td>159.292</td>\n",
       "      <td>16.4726</td>\n",
       "      <td>2.48512</td>\n",
       "      <td>7.73774</td>\n",
       "      <td>19.4649</td>\n",
       "      <td>40.9011</td>\n",
       "    </tr>\n",
       "  </tbody>\n",
       "</table>\n",
       "<p>5 rows × 444 columns</p>\n",
       "</div>"
      ],
      "text/plain": [
       "  Sex      Age Menopause Carnitine Betaine Choline Dimethyl-glycine Sarcosine  \\\n",
       "0   1  66.3682       NaN     35.23    40.5    9.33                3      4.92   \n",
       "1   1  23.6449       NaN     35.91   46.89   10.46             2.64      2.21   \n",
       "2   1   50.987       NaN     48.71   28.48   11.26             2.38      2.97   \n",
       "3   1  23.3684       NaN     27.14   42.01    9.26             2.86         3   \n",
       "4   1  57.3101       NaN     33.28   35.71    9.38             2.82      1.69   \n",
       "\n",
       "  Trimethyl-amine-N-oxide Carnitine  ... linolenic acid eicosadienoic acid  \\\n",
       "0                    2.71   33.3716  ...        12.9769            6.42583   \n",
       "1                    2.31   38.2747  ...        14.8863            5.32614   \n",
       "2                   13.98    53.419  ...        9.17422            3.23201   \n",
       "3                    3.72   25.6593  ...        11.9528            4.96358   \n",
       "4                    3.57   38.9843  ...        16.9805            6.28118   \n",
       "\n",
       "  dihomo-γ-linolenic acid behenic acid arachidonic acid eicosapentaenoic acid  \\\n",
       "0                 52.5943      1.79579          223.444               20.1033   \n",
       "1                 43.4748      1.10423          202.725               20.5065   \n",
       "2                  24.851      1.29035          120.742                7.9553   \n",
       "3                 35.5244         0.48           146.83                22.383   \n",
       "4                 51.4516      1.99483          159.292               16.4726   \n",
       "\n",
       "  lignoceric acid docosatetraenoic acid docosapentaenoic acid  \\\n",
       "0         2.04693               8.74794               16.2559   \n",
       "1            0.48               7.55581               16.8608   \n",
       "2            0.48               4.30479               9.01177   \n",
       "3            0.48                5.1504               15.4226   \n",
       "4         2.48512               7.73774               19.4649   \n",
       "\n",
       "  docosahexaenoic acid  \n",
       "0               31.796  \n",
       "1              28.7924  \n",
       "2              34.1674  \n",
       "3              48.8507  \n",
       "4              40.9011  \n",
       "\n",
       "[5 rows x 444 columns]"
      ]
     },
     "execution_count": 3,
     "metadata": {},
     "output_type": "execute_result"
    }
   ],
   "source": [
    "# raw dataframe\n",
    "df0 = pd.read_excel('../data/pone.0183228.s006.xlsx', sheet_name='plasma', header = None, skip = 1)\n",
    "\n",
    "# remove unnecessary rows and columns\n",
    "platform = df0.iloc[1, :]\n",
    "level_of_identification = df0.iloc[4, :]\n",
    "units = df0.iloc[5, :]\n",
    "df = df0.drop(index = [0, 1, 2, 4, 5])\n",
    "\n",
    "df.iloc[0, :][0:3] = ['Sex', 'Age', 'Menopause']\n",
    "df.columns = np.array(df.iloc[0,:])\n",
    "df.drop(index = 3, inplace = True)\n",
    "df.index = np.arange(len(df))\n",
    "Age, Sex, Menopause = df.Age, df.Sex, df.Menopause\n",
    "df.drop(['variable long name'], axis = 1, inplace = True)\n",
    "df.head()"
   ]
  },
  {
   "cell_type": "code",
   "execution_count": 5,
   "metadata": {},
   "outputs": [
    {
     "data": {
      "text/plain": [
       "(308, 444)"
      ]
     },
     "execution_count": 5,
     "metadata": {},
     "output_type": "execute_result"
    }
   ],
   "source": [
    "df.shape"
   ]
  },
  {
   "cell_type": "code",
   "execution_count": 7,
   "metadata": {},
   "outputs": [],
   "source": [
    "# write the dataframe to csv format\n",
    "df.to_csv('../steps/rawdf.csv')"
   ]
  },
  {
   "cell_type": "code",
   "execution_count": 5,
   "metadata": {},
   "outputs": [
    {
     "data": {
      "image/png": "[encoded data removed]",
      "text/plain": [
       "<Figure size 432x288 with 1 Axes>"
      ]
     },
     "metadata": {
      "needs_background": "light"
     },
     "output_type": "display_data"
    }
   ],
   "source": [
    "# Age distribution\n",
    "sns.distplot(Age.dropna(), kde = False, bins = 20, hist_kws=dict(alpha=1));"
   ]
  },
  {
   "cell_type": "code",
   "execution_count": 4,
   "metadata": {},
   "outputs": [
    {
     "data": {
      "image/png": "[encoded data removed]",
      "text/plain": [
       "<Figure size 432x288 with 1 Axes>"
      ]
     },
     "metadata": {
      "needs_background": "light"
     },
     "output_type": "display_data"
    }
   ],
   "source": [
    "# Sex distribution\n",
    "sns.countplot(Sex); # 1 is male, 2 is female"
   ]
  },
  {
   "cell_type": "markdown",
   "metadata": {},
   "source": [
    "# Training/Test sets"
   ]
  },
  {
   "cell_type": "code",
   "execution_count": 5,
   "metadata": {},
   "outputs": [],
   "source": [
    "from sklearn.model_selection import StratifiedShuffleSplit\n",
    "def strat_split(df, response):\n",
    "    '''Performes Stratified sampling and returns Training and Test set'''\n",
    "    split = StratifiedShuffleSplit(n_splits = 1, test_size = 0.2, random_state = 5)\n",
    "    for train_ind, test_ind in split.split(df, response):\n",
    "        train_df = df.iloc[train_ind]\n",
    "        test_df = df.iloc[test_ind]\n",
    "    return train_df, test_df"
   ]
  },
  {
   "cell_type": "markdown",
   "metadata": {},
   "source": [
    "## Sex"
   ]
  },
  {
   "cell_type": "markdown",
   "metadata": {},
   "source": [
    "\"For the prediction of sex, due to the relatively low number of young females compared to young men, only participants in the age range of 36–80 were included. In this age range the number of males and females is comparable (n = 99 and n = 101, respectively).\""
   ]
  },
  {
   "cell_type": "code",
   "execution_count": 6,
   "metadata": {},
   "outputs": [],
   "source": [
    "sex_df = df.copy()\n",
    "sex_df = sex_df.query('Age >=36 & Age <= 80')\n",
    "sex_df.drop(['Menopause', 'Age'], axis = 1, inplace = True)\n",
    "sex_df = sex_df.reset_index().drop('index', axis = 1)"
   ]
  },
  {
   "cell_type": "markdown",
   "metadata": {},
   "source": [
    "#### Missing values"
   ]
  },
  {
   "cell_type": "code",
   "execution_count": 7,
   "metadata": {},
   "outputs": [
    {
     "data": {
      "text/plain": [
       "1    312\n",
       "9    129\n",
       "0      1\n",
       "dtype: int64"
      ]
     },
     "execution_count": 7,
     "metadata": {},
     "output_type": "execute_result"
    }
   ],
   "source": [
    "sex_df.apply(lambda x: np.sum(x.isnull()), axis = 0).value_counts()"
   ]
  },
  {
   "cell_type": "code",
   "execution_count": 8,
   "metadata": {},
   "outputs": [
    {
     "name": "stdout",
     "output_type": "stream",
     "text": [
      "(199, 442)\n",
      "(190, 442)\n"
     ]
    }
   ],
   "source": [
    "print(sex_df.shape)\n",
    "print(sex_df.dropna().shape)"
   ]
  },
  {
   "cell_type": "markdown",
   "metadata": {},
   "source": [
    "This means that all `NAs` are in the same individuals. So we can remove them "
   ]
  },
  {
   "cell_type": "code",
   "execution_count": 13,
   "metadata": {},
   "outputs": [],
   "source": [
    "sex_df.dropna(inplace=True)"
   ]
  },
  {
   "cell_type": "code",
   "execution_count": 9,
   "metadata": {},
   "outputs": [],
   "source": [
    "# Train/Test set generator\n",
    "train_df_sex, test_df_sex = strat_split(sex_df, sex_df.Sex)"
   ]
  },
  {
   "cell_type": "code",
   "execution_count": 12,
   "metadata": {},
   "outputs": [],
   "source": [
    "train_df_sex.to_csv('data/train_df_sex.csv')\n",
    "test_df_sex.to_csv('data/test_df_sex.csv')"
   ]
  },
  {
   "cell_type": "markdown",
   "metadata": {},
   "source": [
    "## Age"
   ]
  },
  {
   "cell_type": "code",
   "execution_count": 11,
   "metadata": {},
   "outputs": [],
   "source": [
    "male_age = df.query('Sex == 1').drop(['Sex', 'Menopause'], axis = 1)\n",
    "female_age = df.query('Sex == 2').drop(['Sex', 'Menopause'], axis = 1)\n",
    "female_age_m = df.query('Sex == 2').drop(['Sex'], axis = 1) # for menopausal status"
   ]
  },
  {
   "cell_type": "markdown",
   "metadata": {},
   "source": [
    "I have to create a categorical variable from `Age` and than perform StratifiedSampling on it"
   ]
  },
  {
   "cell_type": "code",
   "execution_count": 12,
   "metadata": {},
   "outputs": [
    {
     "name": "stdout",
     "output_type": "stream",
     "text": [
      "(172, 442)\n",
      "(170, 442)\n"
     ]
    }
   ],
   "source": [
    "print(male_age.shape)\n",
    "print(male_age.dropna().shape)"
   ]
  },
  {
   "cell_type": "code",
   "execution_count": 13,
   "metadata": {},
   "outputs": [
    {
     "name": "stdout",
     "output_type": "stream",
     "text": [
      "(129, 442)\n",
      "(121, 442)\n"
     ]
    }
   ],
   "source": [
    "print(female_age.shape)\n",
    "print(female_age.dropna().shape)"
   ]
  },
  {
   "cell_type": "code",
   "execution_count": 16,
   "metadata": {},
   "outputs": [
    {
     "name": "stdout",
     "output_type": "stream",
     "text": [
      "(121, 443)\n",
      "(121, 443)\n"
     ]
    }
   ],
   "source": [
    "print(female_age_m.shape)\n",
    "print(female_age_m.dropna().shape)"
   ]
  },
  {
   "cell_type": "markdown",
   "metadata": {},
   "source": [
    "There are two males and 8 females with missing values. Lets remove them"
   ]
  },
  {
   "cell_type": "code",
   "execution_count": 14,
   "metadata": {},
   "outputs": [],
   "source": [
    "male_age.dropna(inplace=True)\n",
    "female_age.dropna(inplace=True)\n",
    "#female_age_m.dropna(inplace=True) # Not neccessary"
   ]
  },
  {
   "cell_type": "code",
   "execution_count": 17,
   "metadata": {},
   "outputs": [],
   "source": [
    "def age_prep(df0):\n",
    "    '''Label discretization, which is neccessary for Stratified Sampling. Returns Train and Test dataset'''\n",
    "    df = df0.copy()\n",
    "    age_cat = []\n",
    "    q = df.Age.quantile(q = [0.2, 0.4, 0.6, 0.8])\n",
    "    for i in df.Age:\n",
    "        if i <= np.ceil(q[0.2]): age_cat.append(1)\n",
    "        elif i > np.ceil(q[0.2]) and i <= np.ceil(q[0.4]): age_cat.append(2)\n",
    "        elif i > np.ceil(q[0.4]) and i <= np.ceil(q[0.6]): age_cat.append(3)\n",
    "        elif i > np.ceil(q[0.6]) and i <= np.ceil(q[0.8]): age_cat.append(4)\n",
    "        elif i > np.ceil(q[0.8]): age_cat.append(5)\n",
    "    df['Age_cat'] = age_cat\n",
    "    train_df, test_df = strat_split(df, df['Age_cat'])\n",
    "    train_df.drop('Age_cat', axis = 1, inplace = True)\n",
    "    test_df.drop('Age_cat', axis = 1, inplace = True)\n",
    "    return train_df, test_df"
   ]
  },
  {
   "cell_type": "code",
   "execution_count": 16,
   "metadata": {},
   "outputs": [
    {
     "name": "stderr",
     "output_type": "stream",
     "text": [
      "/home/tomas/anaconda3/lib/python3.7/site-packages/pandas/core/frame.py:3940: SettingWithCopyWarning: \n",
      "A value is trying to be set on a copy of a slice from a DataFrame\n",
      "\n",
      "See the caveats in the documentation: http://pandas.pydata.org/pandas-docs/stable/indexing.html#indexing-view-versus-copy\n",
      "  errors=errors)\n",
      "/home/tomas/anaconda3/lib/python3.7/site-packages/pandas/core/frame.py:3940: SettingWithCopyWarning: \n",
      "A value is trying to be set on a copy of a slice from a DataFrame\n",
      "\n",
      "See the caveats in the documentation: http://pandas.pydata.org/pandas-docs/stable/indexing.html#indexing-view-versus-copy\n",
      "  errors=errors)\n"
     ]
    }
   ],
   "source": [
    "train_df_male_age, test_df_male_age = age_prep(male_age)\n",
    "train_df_female_age, test_df_female_age = age_prep(female_age)\n",
    "train_df_male_age.to_csv('../steps/train_df_male_age.csv')\n",
    "test_df_male_age.to_csv('../steps/test_df_male_age.csv')\n",
    "train_df_female_age.to_csv('../steps/train_df_female_age.csv')\n",
    "test_df_female_age.to_csv('../steps/test_df_female_age.csv')"
   ]
  },
  {
   "cell_type": "code",
   "execution_count": 10,
   "metadata": {},
   "outputs": [
    {
     "name": "stderr",
     "output_type": "stream",
     "text": [
      "/home/tomas/anaconda3/lib/python3.7/site-packages/pandas/core/frame.py:3940: SettingWithCopyWarning: \n",
      "A value is trying to be set on a copy of a slice from a DataFrame\n",
      "\n",
      "See the caveats in the documentation: http://pandas.pydata.org/pandas-docs/stable/indexing.html#indexing-view-versus-copy\n",
      "  errors=errors)\n"
     ]
    }
   ],
   "source": [
    "train_df_female_age_m, test_df_female_age_m = age_prep(female_age_m)\n",
    "train_df_female_age_m.to_csv('../steps/train_df_female_age_m.csv')\n",
    "test_df_female_age_m.to_csv('../steps/test_df_female_age_m.csv')"
   ]
  },
  {
   "cell_type": "markdown",
   "metadata": {},
   "source": [
    "## Menopausal Status"
   ]
  },
  {
   "cell_type": "code",
   "execution_count": 18,
   "metadata": {},
   "outputs": [],
   "source": [
    "meno_df = df.query('Sex == 2').drop(['Sex', 'Age'], axis = 1)"
   ]
  },
  {
   "cell_type": "code",
   "execution_count": 19,
   "metadata": {},
   "outputs": [
    {
     "name": "stdout",
     "output_type": "stream",
     "text": [
      "(129, 442)\n",
      "(121, 442)\n"
     ]
    }
   ],
   "source": [
    "print(meno_df.shape)\n",
    "print(meno_df.dropna().shape)"
   ]
  },
  {
   "cell_type": "code",
   "execution_count": 20,
   "metadata": {},
   "outputs": [],
   "source": [
    "meno_df.dropna(inplace=True)"
   ]
  },
  {
   "cell_type": "code",
   "execution_count": 21,
   "metadata": {},
   "outputs": [],
   "source": [
    "train_df_meno, test_df_meno = strat_split(meno_df, meno_df.Menopause)"
   ]
  },
  {
   "cell_type": "code",
   "execution_count": 22,
   "metadata": {},
   "outputs": [],
   "source": [
    "train_df_meno.to_csv('data/train_df_meno.csv')\n",
    "test_df_meno.to_csv('data/test_df_meno.csv')"
   ]
  }
 ],
 "metadata": {
  "kernelspec": {
   "display_name": "Python 3",
   "language": "python",
   "name": "python3"
  },
  "language_info": {
   "codemirror_mode": {
    "name": "ipython",
    "version": 3
   },
   "file_extension": ".py",
   "mimetype": "text/x-python",
   "name": "python",
   "nbconvert_exporter": "python",
   "pygments_lexer": "ipython3",
   "version": "3.7.5"
  }
 },
 "nbformat": 4,
 "nbformat_minor": 4
}
